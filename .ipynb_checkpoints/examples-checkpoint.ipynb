{
 "cells": [
  {
   "cell_type": "code",
   "execution_count": 1,
   "metadata": {},
   "outputs": [],
   "source": [
    "import pandas as pd\n",
    "\n",
    "from aykhan_pandas import correlation_heat_map\n",
    "from aykhan_pandas import desc"
   ]
  },
  {
   "cell_type": "markdown",
   "metadata": {},
   "source": [
    "# Example Based on \"Titanic: Machine Learning from Disaster\" dataset"
   ]
  },
  {
   "cell_type": "code",
   "execution_count": 2,
   "metadata": {},
   "outputs": [],
   "source": [
    "titanic = pd.read_csv('train.csv')"
   ]
  },
  {
   "cell_type": "markdown",
   "metadata": {},
   "source": [
    "## Correlation heat map"
   ]
  },
  {
   "cell_type": "code",
   "execution_count": 3,
   "metadata": {},
   "outputs": [
    {
     "data": {
      "image/png": "[encoded data removed]",
      "text/plain": [
       "<Figure size 432x288 with 2 Axes>"
      ]
     },
     "metadata": {
      "needs_background": "light"
     },
     "output_type": "display_data"
    }
   ],
   "source": [
    "correlation_heat_map(titanic, figsize = (11,11))"
   ]
  },
  {
   "cell_type": "markdown",
   "metadata": {},
   "source": [
    "## Desc function"
   ]
  },
  {
   "cell_type": "markdown",
   "metadata": {},
   "source": [
    "Functions simply displays data and return dataframe. so use \";\" at the end of function if you just want to see the content. but you also can assign it to vatiable."
   ]
  },
  {
   "cell_type": "code",
   "execution_count": 4,
   "metadata": {},
   "outputs": [
    {
     "data": {
      "text/html": [
       "<h4><B><span style=\"padding-left: 30%\";>shape (891, 12)</span></h4>"
      ],
      "text/plain": [
       "<IPython.core.display.HTML object>"
      ]
     },
     "metadata": {},
     "output_type": "display_data"
    },
    {
     "data": {
      "text/html": [
       "<style  type=\"text/css\" >\n",
       "    #T_28d93b58_7ab3_11ea_91d9_144f8aa77375row0_col0 {\n",
       "            font-weight:  bold;\n",
       "        }    #T_28d93b58_7ab3_11ea_91d9_144f8aa77375row0_col2 {\n",
       "            background-color:  #f2f2f2;\n",
       "            color:  #000000;\n",
       "        }    #T_28d93b58_7ab3_11ea_91d9_144f8aa77375row1_col0 {\n",
       "            font-weight:  bold;\n",
       "        }    #T_28d93b58_7ab3_11ea_91d9_144f8aa77375row1_col2 {\n",
       "            background-color:  #f2f2f2;\n",
       "            color:  #000000;\n",
       "        }    #T_28d93b58_7ab3_11ea_91d9_144f8aa77375row2_col0 {\n",
       "            font-weight:  bold;\n",
       "        }    #T_28d93b58_7ab3_11ea_91d9_144f8aa77375row2_col2 {\n",
       "            background-color:  #f2f2f2;\n",
       "            color:  #000000;\n",
       "        }    #T_28d93b58_7ab3_11ea_91d9_144f8aa77375row3_col0 {\n",
       "            font-weight:  bold;\n",
       "        }    #T_28d93b58_7ab3_11ea_91d9_144f8aa77375row3_col2 {\n",
       "            background-color:  #f2f2f2;\n",
       "            color:  #000000;\n",
       "        }    #T_28d93b58_7ab3_11ea_91d9_144f8aa77375row4_col0 {\n",
       "            font-weight:  bold;\n",
       "        }    #T_28d93b58_7ab3_11ea_91d9_144f8aa77375row4_col2 {\n",
       "            background-color:  #f2f2f2;\n",
       "            color:  #000000;\n",
       "        }    #T_28d93b58_7ab3_11ea_91d9_144f8aa77375row5_col0 {\n",
       "            font-weight:  bold;\n",
       "        }    #T_28d93b58_7ab3_11ea_91d9_144f8aa77375row5_col2 {\n",
       "            background-color:  #f2f2f2;\n",
       "            color:  #000000;\n",
       "        }    #T_28d93b58_7ab3_11ea_91d9_144f8aa77375row6_col0 {\n",
       "            font-weight:  bold;\n",
       "        }    #T_28d93b58_7ab3_11ea_91d9_144f8aa77375row6_col2 {\n",
       "            background-color:  #e7e7e7;\n",
       "            color:  #000000;\n",
       "        }    #T_28d93b58_7ab3_11ea_91d9_144f8aa77375row7_col0 {\n",
       "            font-weight:  bold;\n",
       "        }    #T_28d93b58_7ab3_11ea_91d9_144f8aa77375row7_col2 {\n",
       "            background-color:  #e0e0e0;\n",
       "            color:  #000000;\n",
       "        }    #T_28d93b58_7ab3_11ea_91d9_144f8aa77375row8_col0 {\n",
       "            font-weight:  bold;\n",
       "        }    #T_28d93b58_7ab3_11ea_91d9_144f8aa77375row8_col2 {\n",
       "            background-color:  #d3d3d3;\n",
       "            color:  #000000;\n",
       "        }    #T_28d93b58_7ab3_11ea_91d9_144f8aa77375row9_col0 {\n",
       "            font-weight:  bold;\n",
       "        }    #T_28d93b58_7ab3_11ea_91d9_144f8aa77375row9_col2 {\n",
       "            background-color:  #9b9b9b;\n",
       "            color:  #000000;\n",
       "        }    #T_28d93b58_7ab3_11ea_91d9_144f8aa77375row10_col0 {\n",
       "            font-weight:  bold;\n",
       "        }    #T_28d93b58_7ab3_11ea_91d9_144f8aa77375row10_col2 {\n",
       "            background-color:  #808080;\n",
       "            color:  #000000;\n",
       "        }    #T_28d93b58_7ab3_11ea_91d9_144f8aa77375row11_col0 {\n",
       "            font-weight:  bold;\n",
       "        }    #T_28d93b58_7ab3_11ea_91d9_144f8aa77375row11_col2 {\n",
       "            background-color:  #808080;\n",
       "            color:  #000000;\n",
       "        }</style><table id=\"T_28d93b58_7ab3_11ea_91d9_144f8aa77375\" ><thead>    <tr>        <th class=\"blank level0\" ></th>        <th class=\"col_heading level0 col0\" >index</th>        <th class=\"col_heading level0 col1\" >dtypes</th>        <th class=\"col_heading level0 col2\" >nunique</th>        <th class=\"col_heading level0 col3\" >nans</th>        <th class=\"col_heading level0 col4\" >count</th>        <th class=\"col_heading level0 col5\" >mean</th>        <th class=\"col_heading level0 col6\" >std</th>        <th class=\"col_heading level0 col7\" >min</th>        <th class=\"col_heading level0 col8\" >25%</th>        <th class=\"col_heading level0 col9\" >50%</th>        <th class=\"col_heading level0 col10\" >75%</th>        <th class=\"col_heading level0 col11\" >max</th>    </tr></thead><tbody>\n",
       "                <tr>\n",
       "                        <th id=\"T_28d93b58_7ab3_11ea_91d9_144f8aa77375level0_row0\" class=\"row_heading level0 row0\" >1</th>\n",
       "                        <td id=\"T_28d93b58_7ab3_11ea_91d9_144f8aa77375row0_col0\" class=\"data row0 col0\" >Survived</td>\n",
       "                        <td id=\"T_28d93b58_7ab3_11ea_91d9_144f8aa77375row0_col1\" class=\"data row0 col1\" >int64</td>\n",
       "                        <td id=\"T_28d93b58_7ab3_11ea_91d9_144f8aa77375row0_col2\" class=\"data row0 col2\" >2</td>\n",
       "                        <td id=\"T_28d93b58_7ab3_11ea_91d9_144f8aa77375row0_col3\" class=\"data row0 col3\" >0</td>\n",
       "                        <td id=\"T_28d93b58_7ab3_11ea_91d9_144f8aa77375row0_col4\" class=\"data row0 col4\" >891</td>\n",
       "                        <td id=\"T_28d93b58_7ab3_11ea_91d9_144f8aa77375row0_col5\" class=\"data row0 col5\" >0.383838</td>\n",
       "                        <td id=\"T_28d93b58_7ab3_11ea_91d9_144f8aa77375row0_col6\" class=\"data row0 col6\" >0.486592</td>\n",
       "                        <td id=\"T_28d93b58_7ab3_11ea_91d9_144f8aa77375row0_col7\" class=\"data row0 col7\" >0</td>\n",
       "                        <td id=\"T_28d93b58_7ab3_11ea_91d9_144f8aa77375row0_col8\" class=\"data row0 col8\" >0</td>\n",
       "                        <td id=\"T_28d93b58_7ab3_11ea_91d9_144f8aa77375row0_col9\" class=\"data row0 col9\" >0</td>\n",
       "                        <td id=\"T_28d93b58_7ab3_11ea_91d9_144f8aa77375row0_col10\" class=\"data row0 col10\" >1</td>\n",
       "                        <td id=\"T_28d93b58_7ab3_11ea_91d9_144f8aa77375row0_col11\" class=\"data row0 col11\" >1</td>\n",
       "            </tr>\n",
       "            <tr>\n",
       "                        <th id=\"T_28d93b58_7ab3_11ea_91d9_144f8aa77375level0_row1\" class=\"row_heading level0 row1\" >4</th>\n",
       "                        <td id=\"T_28d93b58_7ab3_11ea_91d9_144f8aa77375row1_col0\" class=\"data row1 col0\" >Sex</td>\n",
       "                        <td id=\"T_28d93b58_7ab3_11ea_91d9_144f8aa77375row1_col1\" class=\"data row1 col1\" >object</td>\n",
       "                        <td id=\"T_28d93b58_7ab3_11ea_91d9_144f8aa77375row1_col2\" class=\"data row1 col2\" >2</td>\n",
       "                        <td id=\"T_28d93b58_7ab3_11ea_91d9_144f8aa77375row1_col3\" class=\"data row1 col3\" >0</td>\n",
       "                        <td id=\"T_28d93b58_7ab3_11ea_91d9_144f8aa77375row1_col4\" class=\"data row1 col4\" >nan</td>\n",
       "                        <td id=\"T_28d93b58_7ab3_11ea_91d9_144f8aa77375row1_col5\" class=\"data row1 col5\" >nan</td>\n",
       "                        <td id=\"T_28d93b58_7ab3_11ea_91d9_144f8aa77375row1_col6\" class=\"data row1 col6\" >nan</td>\n",
       "                        <td id=\"T_28d93b58_7ab3_11ea_91d9_144f8aa77375row1_col7\" class=\"data row1 col7\" >nan</td>\n",
       "                        <td id=\"T_28d93b58_7ab3_11ea_91d9_144f8aa77375row1_col8\" class=\"data row1 col8\" >nan</td>\n",
       "                        <td id=\"T_28d93b58_7ab3_11ea_91d9_144f8aa77375row1_col9\" class=\"data row1 col9\" >nan</td>\n",
       "                        <td id=\"T_28d93b58_7ab3_11ea_91d9_144f8aa77375row1_col10\" class=\"data row1 col10\" >nan</td>\n",
       "                        <td id=\"T_28d93b58_7ab3_11ea_91d9_144f8aa77375row1_col11\" class=\"data row1 col11\" >nan</td>\n",
       "            </tr>\n",
       "            <tr>\n",
       "                        <th id=\"T_28d93b58_7ab3_11ea_91d9_144f8aa77375level0_row2\" class=\"row_heading level0 row2\" >2</th>\n",
       "                        <td id=\"T_28d93b58_7ab3_11ea_91d9_144f8aa77375row2_col0\" class=\"data row2 col0\" >Pclass</td>\n",
       "                        <td id=\"T_28d93b58_7ab3_11ea_91d9_144f8aa77375row2_col1\" class=\"data row2 col1\" >int64</td>\n",
       "                        <td id=\"T_28d93b58_7ab3_11ea_91d9_144f8aa77375row2_col2\" class=\"data row2 col2\" >3</td>\n",
       "                        <td id=\"T_28d93b58_7ab3_11ea_91d9_144f8aa77375row2_col3\" class=\"data row2 col3\" >0</td>\n",
       "                        <td id=\"T_28d93b58_7ab3_11ea_91d9_144f8aa77375row2_col4\" class=\"data row2 col4\" >891</td>\n",
       "                        <td id=\"T_28d93b58_7ab3_11ea_91d9_144f8aa77375row2_col5\" class=\"data row2 col5\" >2.30864</td>\n",
       "                        <td id=\"T_28d93b58_7ab3_11ea_91d9_144f8aa77375row2_col6\" class=\"data row2 col6\" >0.836071</td>\n",
       "                        <td id=\"T_28d93b58_7ab3_11ea_91d9_144f8aa77375row2_col7\" class=\"data row2 col7\" >1</td>\n",
       "                        <td id=\"T_28d93b58_7ab3_11ea_91d9_144f8aa77375row2_col8\" class=\"data row2 col8\" >2</td>\n",
       "                        <td id=\"T_28d93b58_7ab3_11ea_91d9_144f8aa77375row2_col9\" class=\"data row2 col9\" >3</td>\n",
       "                        <td id=\"T_28d93b58_7ab3_11ea_91d9_144f8aa77375row2_col10\" class=\"data row2 col10\" >3</td>\n",
       "                        <td id=\"T_28d93b58_7ab3_11ea_91d9_144f8aa77375row2_col11\" class=\"data row2 col11\" >3</td>\n",
       "            </tr>\n",
       "            <tr>\n",
       "                        <th id=\"T_28d93b58_7ab3_11ea_91d9_144f8aa77375level0_row3\" class=\"row_heading level0 row3\" >11</th>\n",
       "                        <td id=\"T_28d93b58_7ab3_11ea_91d9_144f8aa77375row3_col0\" class=\"data row3 col0\" >Embarked</td>\n",
       "                        <td id=\"T_28d93b58_7ab3_11ea_91d9_144f8aa77375row3_col1\" class=\"data row3 col1\" >object</td>\n",
       "                        <td id=\"T_28d93b58_7ab3_11ea_91d9_144f8aa77375row3_col2\" class=\"data row3 col2\" >3</td>\n",
       "                        <td id=\"T_28d93b58_7ab3_11ea_91d9_144f8aa77375row3_col3\" class=\"data row3 col3\" >2</td>\n",
       "                        <td id=\"T_28d93b58_7ab3_11ea_91d9_144f8aa77375row3_col4\" class=\"data row3 col4\" >nan</td>\n",
       "                        <td id=\"T_28d93b58_7ab3_11ea_91d9_144f8aa77375row3_col5\" class=\"data row3 col5\" >nan</td>\n",
       "                        <td id=\"T_28d93b58_7ab3_11ea_91d9_144f8aa77375row3_col6\" class=\"data row3 col6\" >nan</td>\n",
       "                        <td id=\"T_28d93b58_7ab3_11ea_91d9_144f8aa77375row3_col7\" class=\"data row3 col7\" >nan</td>\n",
       "                        <td id=\"T_28d93b58_7ab3_11ea_91d9_144f8aa77375row3_col8\" class=\"data row3 col8\" >nan</td>\n",
       "                        <td id=\"T_28d93b58_7ab3_11ea_91d9_144f8aa77375row3_col9\" class=\"data row3 col9\" >nan</td>\n",
       "                        <td id=\"T_28d93b58_7ab3_11ea_91d9_144f8aa77375row3_col10\" class=\"data row3 col10\" >nan</td>\n",
       "                        <td id=\"T_28d93b58_7ab3_11ea_91d9_144f8aa77375row3_col11\" class=\"data row3 col11\" >nan</td>\n",
       "            </tr>\n",
       "            <tr>\n",
       "                        <th id=\"T_28d93b58_7ab3_11ea_91d9_144f8aa77375level0_row4\" class=\"row_heading level0 row4\" >6</th>\n",
       "                        <td id=\"T_28d93b58_7ab3_11ea_91d9_144f8aa77375row4_col0\" class=\"data row4 col0\" >SibSp</td>\n",
       "                        <td id=\"T_28d93b58_7ab3_11ea_91d9_144f8aa77375row4_col1\" class=\"data row4 col1\" >int64</td>\n",
       "                        <td id=\"T_28d93b58_7ab3_11ea_91d9_144f8aa77375row4_col2\" class=\"data row4 col2\" >7</td>\n",
       "                        <td id=\"T_28d93b58_7ab3_11ea_91d9_144f8aa77375row4_col3\" class=\"data row4 col3\" >0</td>\n",
       "                        <td id=\"T_28d93b58_7ab3_11ea_91d9_144f8aa77375row4_col4\" class=\"data row4 col4\" >891</td>\n",
       "                        <td id=\"T_28d93b58_7ab3_11ea_91d9_144f8aa77375row4_col5\" class=\"data row4 col5\" >0.523008</td>\n",
       "                        <td id=\"T_28d93b58_7ab3_11ea_91d9_144f8aa77375row4_col6\" class=\"data row4 col6\" >1.10274</td>\n",
       "                        <td id=\"T_28d93b58_7ab3_11ea_91d9_144f8aa77375row4_col7\" class=\"data row4 col7\" >0</td>\n",
       "                        <td id=\"T_28d93b58_7ab3_11ea_91d9_144f8aa77375row4_col8\" class=\"data row4 col8\" >0</td>\n",
       "                        <td id=\"T_28d93b58_7ab3_11ea_91d9_144f8aa77375row4_col9\" class=\"data row4 col9\" >0</td>\n",
       "                        <td id=\"T_28d93b58_7ab3_11ea_91d9_144f8aa77375row4_col10\" class=\"data row4 col10\" >1</td>\n",
       "                        <td id=\"T_28d93b58_7ab3_11ea_91d9_144f8aa77375row4_col11\" class=\"data row4 col11\" >8</td>\n",
       "            </tr>\n",
       "            <tr>\n",
       "                        <th id=\"T_28d93b58_7ab3_11ea_91d9_144f8aa77375level0_row5\" class=\"row_heading level0 row5\" >7</th>\n",
       "                        <td id=\"T_28d93b58_7ab3_11ea_91d9_144f8aa77375row5_col0\" class=\"data row5 col0\" >Parch</td>\n",
       "                        <td id=\"T_28d93b58_7ab3_11ea_91d9_144f8aa77375row5_col1\" class=\"data row5 col1\" >int64</td>\n",
       "                        <td id=\"T_28d93b58_7ab3_11ea_91d9_144f8aa77375row5_col2\" class=\"data row5 col2\" >7</td>\n",
       "                        <td id=\"T_28d93b58_7ab3_11ea_91d9_144f8aa77375row5_col3\" class=\"data row5 col3\" >0</td>\n",
       "                        <td id=\"T_28d93b58_7ab3_11ea_91d9_144f8aa77375row5_col4\" class=\"data row5 col4\" >891</td>\n",
       "                        <td id=\"T_28d93b58_7ab3_11ea_91d9_144f8aa77375row5_col5\" class=\"data row5 col5\" >0.381594</td>\n",
       "                        <td id=\"T_28d93b58_7ab3_11ea_91d9_144f8aa77375row5_col6\" class=\"data row5 col6\" >0.806057</td>\n",
       "                        <td id=\"T_28d93b58_7ab3_11ea_91d9_144f8aa77375row5_col7\" class=\"data row5 col7\" >0</td>\n",
       "                        <td id=\"T_28d93b58_7ab3_11ea_91d9_144f8aa77375row5_col8\" class=\"data row5 col8\" >0</td>\n",
       "                        <td id=\"T_28d93b58_7ab3_11ea_91d9_144f8aa77375row5_col9\" class=\"data row5 col9\" >0</td>\n",
       "                        <td id=\"T_28d93b58_7ab3_11ea_91d9_144f8aa77375row5_col10\" class=\"data row5 col10\" >0</td>\n",
       "                        <td id=\"T_28d93b58_7ab3_11ea_91d9_144f8aa77375row5_col11\" class=\"data row5 col11\" >6</td>\n",
       "            </tr>\n",
       "            <tr>\n",
       "                        <th id=\"T_28d93b58_7ab3_11ea_91d9_144f8aa77375level0_row6\" class=\"row_heading level0 row6\" >5</th>\n",
       "                        <td id=\"T_28d93b58_7ab3_11ea_91d9_144f8aa77375row6_col0\" class=\"data row6 col0\" >Age</td>\n",
       "                        <td id=\"T_28d93b58_7ab3_11ea_91d9_144f8aa77375row6_col1\" class=\"data row6 col1\" >float64</td>\n",
       "                        <td id=\"T_28d93b58_7ab3_11ea_91d9_144f8aa77375row6_col2\" class=\"data row6 col2\" >88</td>\n",
       "                        <td id=\"T_28d93b58_7ab3_11ea_91d9_144f8aa77375row6_col3\" class=\"data row6 col3\" >177</td>\n",
       "                        <td id=\"T_28d93b58_7ab3_11ea_91d9_144f8aa77375row6_col4\" class=\"data row6 col4\" >714</td>\n",
       "                        <td id=\"T_28d93b58_7ab3_11ea_91d9_144f8aa77375row6_col5\" class=\"data row6 col5\" >29.6991</td>\n",
       "                        <td id=\"T_28d93b58_7ab3_11ea_91d9_144f8aa77375row6_col6\" class=\"data row6 col6\" >14.5265</td>\n",
       "                        <td id=\"T_28d93b58_7ab3_11ea_91d9_144f8aa77375row6_col7\" class=\"data row6 col7\" >0.42</td>\n",
       "                        <td id=\"T_28d93b58_7ab3_11ea_91d9_144f8aa77375row6_col8\" class=\"data row6 col8\" >20.125</td>\n",
       "                        <td id=\"T_28d93b58_7ab3_11ea_91d9_144f8aa77375row6_col9\" class=\"data row6 col9\" >28</td>\n",
       "                        <td id=\"T_28d93b58_7ab3_11ea_91d9_144f8aa77375row6_col10\" class=\"data row6 col10\" >38</td>\n",
       "                        <td id=\"T_28d93b58_7ab3_11ea_91d9_144f8aa77375row6_col11\" class=\"data row6 col11\" >80</td>\n",
       "            </tr>\n",
       "            <tr>\n",
       "                        <th id=\"T_28d93b58_7ab3_11ea_91d9_144f8aa77375level0_row7\" class=\"row_heading level0 row7\" >10</th>\n",
       "                        <td id=\"T_28d93b58_7ab3_11ea_91d9_144f8aa77375row7_col0\" class=\"data row7 col0\" >Cabin</td>\n",
       "                        <td id=\"T_28d93b58_7ab3_11ea_91d9_144f8aa77375row7_col1\" class=\"data row7 col1\" >object</td>\n",
       "                        <td id=\"T_28d93b58_7ab3_11ea_91d9_144f8aa77375row7_col2\" class=\"data row7 col2\" >147</td>\n",
       "                        <td id=\"T_28d93b58_7ab3_11ea_91d9_144f8aa77375row7_col3\" class=\"data row7 col3\" >687</td>\n",
       "                        <td id=\"T_28d93b58_7ab3_11ea_91d9_144f8aa77375row7_col4\" class=\"data row7 col4\" >nan</td>\n",
       "                        <td id=\"T_28d93b58_7ab3_11ea_91d9_144f8aa77375row7_col5\" class=\"data row7 col5\" >nan</td>\n",
       "                        <td id=\"T_28d93b58_7ab3_11ea_91d9_144f8aa77375row7_col6\" class=\"data row7 col6\" >nan</td>\n",
       "                        <td id=\"T_28d93b58_7ab3_11ea_91d9_144f8aa77375row7_col7\" class=\"data row7 col7\" >nan</td>\n",
       "                        <td id=\"T_28d93b58_7ab3_11ea_91d9_144f8aa77375row7_col8\" class=\"data row7 col8\" >nan</td>\n",
       "                        <td id=\"T_28d93b58_7ab3_11ea_91d9_144f8aa77375row7_col9\" class=\"data row7 col9\" >nan</td>\n",
       "                        <td id=\"T_28d93b58_7ab3_11ea_91d9_144f8aa77375row7_col10\" class=\"data row7 col10\" >nan</td>\n",
       "                        <td id=\"T_28d93b58_7ab3_11ea_91d9_144f8aa77375row7_col11\" class=\"data row7 col11\" >nan</td>\n",
       "            </tr>\n",
       "            <tr>\n",
       "                        <th id=\"T_28d93b58_7ab3_11ea_91d9_144f8aa77375level0_row8\" class=\"row_heading level0 row8\" >9</th>\n",
       "                        <td id=\"T_28d93b58_7ab3_11ea_91d9_144f8aa77375row8_col0\" class=\"data row8 col0\" >Fare</td>\n",
       "                        <td id=\"T_28d93b58_7ab3_11ea_91d9_144f8aa77375row8_col1\" class=\"data row8 col1\" >float64</td>\n",
       "                        <td id=\"T_28d93b58_7ab3_11ea_91d9_144f8aa77375row8_col2\" class=\"data row8 col2\" >248</td>\n",
       "                        <td id=\"T_28d93b58_7ab3_11ea_91d9_144f8aa77375row8_col3\" class=\"data row8 col3\" >0</td>\n",
       "                        <td id=\"T_28d93b58_7ab3_11ea_91d9_144f8aa77375row8_col4\" class=\"data row8 col4\" >891</td>\n",
       "                        <td id=\"T_28d93b58_7ab3_11ea_91d9_144f8aa77375row8_col5\" class=\"data row8 col5\" >32.2042</td>\n",
       "                        <td id=\"T_28d93b58_7ab3_11ea_91d9_144f8aa77375row8_col6\" class=\"data row8 col6\" >49.6934</td>\n",
       "                        <td id=\"T_28d93b58_7ab3_11ea_91d9_144f8aa77375row8_col7\" class=\"data row8 col7\" >0</td>\n",
       "                        <td id=\"T_28d93b58_7ab3_11ea_91d9_144f8aa77375row8_col8\" class=\"data row8 col8\" >7.9104</td>\n",
       "                        <td id=\"T_28d93b58_7ab3_11ea_91d9_144f8aa77375row8_col9\" class=\"data row8 col9\" >14.4542</td>\n",
       "                        <td id=\"T_28d93b58_7ab3_11ea_91d9_144f8aa77375row8_col10\" class=\"data row8 col10\" >31</td>\n",
       "                        <td id=\"T_28d93b58_7ab3_11ea_91d9_144f8aa77375row8_col11\" class=\"data row8 col11\" >512.329</td>\n",
       "            </tr>\n",
       "            <tr>\n",
       "                        <th id=\"T_28d93b58_7ab3_11ea_91d9_144f8aa77375level0_row9\" class=\"row_heading level0 row9\" >8</th>\n",
       "                        <td id=\"T_28d93b58_7ab3_11ea_91d9_144f8aa77375row9_col0\" class=\"data row9 col0\" >Ticket</td>\n",
       "                        <td id=\"T_28d93b58_7ab3_11ea_91d9_144f8aa77375row9_col1\" class=\"data row9 col1\" >object</td>\n",
       "                        <td id=\"T_28d93b58_7ab3_11ea_91d9_144f8aa77375row9_col2\" class=\"data row9 col2\" >681</td>\n",
       "                        <td id=\"T_28d93b58_7ab3_11ea_91d9_144f8aa77375row9_col3\" class=\"data row9 col3\" >0</td>\n",
       "                        <td id=\"T_28d93b58_7ab3_11ea_91d9_144f8aa77375row9_col4\" class=\"data row9 col4\" >nan</td>\n",
       "                        <td id=\"T_28d93b58_7ab3_11ea_91d9_144f8aa77375row9_col5\" class=\"data row9 col5\" >nan</td>\n",
       "                        <td id=\"T_28d93b58_7ab3_11ea_91d9_144f8aa77375row9_col6\" class=\"data row9 col6\" >nan</td>\n",
       "                        <td id=\"T_28d93b58_7ab3_11ea_91d9_144f8aa77375row9_col7\" class=\"data row9 col7\" >nan</td>\n",
       "                        <td id=\"T_28d93b58_7ab3_11ea_91d9_144f8aa77375row9_col8\" class=\"data row9 col8\" >nan</td>\n",
       "                        <td id=\"T_28d93b58_7ab3_11ea_91d9_144f8aa77375row9_col9\" class=\"data row9 col9\" >nan</td>\n",
       "                        <td id=\"T_28d93b58_7ab3_11ea_91d9_144f8aa77375row9_col10\" class=\"data row9 col10\" >nan</td>\n",
       "                        <td id=\"T_28d93b58_7ab3_11ea_91d9_144f8aa77375row9_col11\" class=\"data row9 col11\" >nan</td>\n",
       "            </tr>\n",
       "            <tr>\n",
       "                        <th id=\"T_28d93b58_7ab3_11ea_91d9_144f8aa77375level0_row10\" class=\"row_heading level0 row10\" >0</th>\n",
       "                        <td id=\"T_28d93b58_7ab3_11ea_91d9_144f8aa77375row10_col0\" class=\"data row10 col0\" >PassengerId</td>\n",
       "                        <td id=\"T_28d93b58_7ab3_11ea_91d9_144f8aa77375row10_col1\" class=\"data row10 col1\" >int64</td>\n",
       "                        <td id=\"T_28d93b58_7ab3_11ea_91d9_144f8aa77375row10_col2\" class=\"data row10 col2\" >891</td>\n",
       "                        <td id=\"T_28d93b58_7ab3_11ea_91d9_144f8aa77375row10_col3\" class=\"data row10 col3\" >0</td>\n",
       "                        <td id=\"T_28d93b58_7ab3_11ea_91d9_144f8aa77375row10_col4\" class=\"data row10 col4\" >891</td>\n",
       "                        <td id=\"T_28d93b58_7ab3_11ea_91d9_144f8aa77375row10_col5\" class=\"data row10 col5\" >446</td>\n",
       "                        <td id=\"T_28d93b58_7ab3_11ea_91d9_144f8aa77375row10_col6\" class=\"data row10 col6\" >257.354</td>\n",
       "                        <td id=\"T_28d93b58_7ab3_11ea_91d9_144f8aa77375row10_col7\" class=\"data row10 col7\" >1</td>\n",
       "                        <td id=\"T_28d93b58_7ab3_11ea_91d9_144f8aa77375row10_col8\" class=\"data row10 col8\" >223.5</td>\n",
       "                        <td id=\"T_28d93b58_7ab3_11ea_91d9_144f8aa77375row10_col9\" class=\"data row10 col9\" >446</td>\n",
       "                        <td id=\"T_28d93b58_7ab3_11ea_91d9_144f8aa77375row10_col10\" class=\"data row10 col10\" >668.5</td>\n",
       "                        <td id=\"T_28d93b58_7ab3_11ea_91d9_144f8aa77375row10_col11\" class=\"data row10 col11\" >891</td>\n",
       "            </tr>\n",
       "            <tr>\n",
       "                        <th id=\"T_28d93b58_7ab3_11ea_91d9_144f8aa77375level0_row11\" class=\"row_heading level0 row11\" >3</th>\n",
       "                        <td id=\"T_28d93b58_7ab3_11ea_91d9_144f8aa77375row11_col0\" class=\"data row11 col0\" >Name</td>\n",
       "                        <td id=\"T_28d93b58_7ab3_11ea_91d9_144f8aa77375row11_col1\" class=\"data row11 col1\" >object</td>\n",
       "                        <td id=\"T_28d93b58_7ab3_11ea_91d9_144f8aa77375row11_col2\" class=\"data row11 col2\" >891</td>\n",
       "                        <td id=\"T_28d93b58_7ab3_11ea_91d9_144f8aa77375row11_col3\" class=\"data row11 col3\" >0</td>\n",
       "                        <td id=\"T_28d93b58_7ab3_11ea_91d9_144f8aa77375row11_col4\" class=\"data row11 col4\" >nan</td>\n",
       "                        <td id=\"T_28d93b58_7ab3_11ea_91d9_144f8aa77375row11_col5\" class=\"data row11 col5\" >nan</td>\n",
       "                        <td id=\"T_28d93b58_7ab3_11ea_91d9_144f8aa77375row11_col6\" class=\"data row11 col6\" >nan</td>\n",
       "                        <td id=\"T_28d93b58_7ab3_11ea_91d9_144f8aa77375row11_col7\" class=\"data row11 col7\" >nan</td>\n",
       "                        <td id=\"T_28d93b58_7ab3_11ea_91d9_144f8aa77375row11_col8\" class=\"data row11 col8\" >nan</td>\n",
       "                        <td id=\"T_28d93b58_7ab3_11ea_91d9_144f8aa77375row11_col9\" class=\"data row11 col9\" >nan</td>\n",
       "                        <td id=\"T_28d93b58_7ab3_11ea_91d9_144f8aa77375row11_col10\" class=\"data row11 col10\" >nan</td>\n",
       "                        <td id=\"T_28d93b58_7ab3_11ea_91d9_144f8aa77375row11_col11\" class=\"data row11 col11\" >nan</td>\n",
       "            </tr>\n",
       "    </tbody></table>"
      ],
      "text/plain": [
       "<pandas.io.formats.style.Styler at 0x1c80ebe7f60>"
      ]
     },
     "metadata": {},
     "output_type": "display_data"
    }
   ],
   "source": [
    "desc(titanic);"
   ]
  },
  {
   "cell_type": "code",
   "execution_count": null,
   "metadata": {},
   "outputs": [],
   "source": []
  }
 ],
 "metadata": {
  "kernelspec": {
   "display_name": "Python 3",
   "language": "python",
   "name": "python3"
  },
  "language_info": {
   "codemirror_mode": {
    "name": "ipython",
    "version": 3
   },
   "file_extension": ".py",
   "mimetype": "text/x-python",
   "name": "python",
   "nbconvert_exporter": "python",
   "pygments_lexer": "ipython3",
   "version": "3.7.3"
  }
 },
 "nbformat": 4,
 "nbformat_minor": 2
}
